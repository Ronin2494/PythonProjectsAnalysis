{
 "cells": [
  {
   "cell_type": "markdown",
   "id": "2acf57ec",
   "metadata": {},
   "source": [
    "# The Time Module\n",
    "\n",
    "Our computer’s system clock is complex if accessed and used directly. Python has the built-in time module that allows our Python programs to manipulate the system’s clock with ease.\n",
    "\n",
    "This module has an awful lot of functions. But in this section, we shall look at the commonly used ones.\n",
    "\n",
    "If you would like to know more about the other functions, visit the [Python Official Documentation](https://docs.python.org/3/library/time.html)."
   ]
  },
  {
   "cell_type": "markdown",
   "id": "f83c51a0",
   "metadata": {},
   "source": [
    "#1) **The time.time() Function**\n",
    "\n",
    "It returns the current time as a floating-point number of seconds since the epoch.\n",
    "\n",
    "**Example 1**: Find the current time since the epoch"
   ]
  },
  {
   "cell_type": "code",
   "execution_count": 3,
   "id": "c003bc67",
   "metadata": {},
   "outputs": [],
   "source": [
    "import time\n",
    "from time import time as time_func"
   ]
  },
  {
   "cell_type": "code",
   "execution_count": 19,
   "id": "9ba1a12a",
   "metadata": {},
   "outputs": [
    {
     "name": "stdout",
     "output_type": "stream",
     "text": [
      "\n",
      "The current time is: 1683223650.196872\n"
     ]
    }
   ],
   "source": [
    "start_time = time.time() #this will show time in float type\n",
    "\n",
    "print(\"\\nThe current time is:\", start_time)"
   ]
  },
  {
   "cell_type": "code",
   "execution_count": 2,
   "id": "0b0f9422",
   "metadata": {},
   "outputs": [
    {
     "name": "stdout",
     "output_type": "stream",
     "text": [
      "\n",
      "The current time is: Thu May  4 13:20:11 2023\n"
     ]
    }
   ],
   "source": [
    "start_time = time.ctime() #ctime is used to get current time in human readable format\n",
    "\n",
    "print(\"\\nThe current time is:\", start_time)"
   ]
  },
  {
   "cell_type": "markdown",
   "id": "039665b2",
   "metadata": {},
   "source": [
    "**Note**: If you want to reset certain variables in a particular cell, you can do it using **%reset** command as shown below, so that you won't have to start your kernel again and again to clear a cell output."
   ]
  },
  {
   "cell_type": "code",
   "execution_count": null,
   "id": "41bfc20d",
   "metadata": {},
   "outputs": [],
   "source": [
    "%reset"
   ]
  },
  {
   "cell_type": "markdown",
   "id": "616111f1",
   "metadata": {},
   "source": [
    "**History** command: If you want to check what all commands you have executed till now, use **%history** command as shown below."
   ]
  },
  {
   "cell_type": "code",
   "execution_count": null,
   "id": "9f2c0cdd",
   "metadata": {},
   "outputs": [],
   "source": [
    "%history"
   ]
  },
  {
   "cell_type": "markdown",
   "id": "c261272a",
   "metadata": {},
   "source": [
    "**Example 2**: Find the time taken for a code to execute."
   ]
  },
  {
   "cell_type": "code",
   "execution_count": 3,
   "id": "17facca8",
   "metadata": {},
   "outputs": [
    {
     "name": "stdout",
     "output_type": "stream",
     "text": [
      "\n",
      "Time taken to execute the code: 4.0531158447265625e-06\n"
     ]
    }
   ],
   "source": [
    "def current_code():\n",
    "    for i in range(100):\n",
    "        return i*i\n",
    "\n",
    "if __name__ == '__main__':\n",
    "    start_time = time_func() #record time before executing the code\n",
    "    current_code()\n",
    "    end_time = time_func() - start_time #compute time after execution of code\n",
    "    \n",
    "    print(\"\\nTime taken to execute the code:\", end_time)"
   ]
  },
  {
   "cell_type": "markdown",
   "id": "876e2d60",
   "metadata": {},
   "source": [
    "**Important NOTE**: If you want to import time and use from time import time at the same time, you need to do it in a way that i did above. basically use an alias if you want to use both at the same time, from time import time as time_func, because The error occurs if you use only from time import time statement as it will overwrite the time variable that was previously imported using import time."
   ]
  },
  {
   "cell_type": "markdown",
   "id": "66d08820",
   "metadata": {},
   "source": [
    "#2) The **time.sleep(t)** function\n",
    "\n",
    "The sleep() function pauses our program or thread running for a while. It takes in a number or fraction, t that represents the amount of time to wait in seconds, but doesn’t return any value.\n"
   ]
  },
  {
   "cell_type": "markdown",
   "id": "24377c1b",
   "metadata": {},
   "source": [
    "**Example 3**: Suspend a program for 5 seconds"
   ]
  },
  {
   "cell_type": "code",
   "execution_count": 11,
   "id": "a8de5570",
   "metadata": {},
   "outputs": [
    {
     "name": "stdout",
     "output_type": "stream",
     "text": [
      "Program slept for :  5\n"
     ]
    }
   ],
   "source": [
    "def suspend():\n",
    "    start_time = time.time()\n",
    "    time.sleep(5)\n",
    "    end_time = time.time() - start_time \n",
    "    print(\"Program slept for : \", round(end_time), \" seconds\")\n",
    "\n",
    "if __name__ == '__main__': \n",
    "    suspend()"
   ]
  },
  {
   "cell_type": "markdown",
   "id": "2a879d46",
   "metadata": {},
   "source": [
    "**Example 4**: Get local time and its attributes"
   ]
  },
  {
   "cell_type": "code",
   "execution_count": 5,
   "id": "010023af",
   "metadata": {},
   "outputs": [
    {
     "name": "stdout",
     "output_type": "stream",
     "text": [
      "\n",
      " The local time is:  time.struct_time(tm_year=2023, tm_mon=5, tm_mday=4, tm_hour=18, tm_min=17, tm_sec=19, tm_wday=3, tm_yday=124, tm_isdst=1)\n",
      "\n",
      "Get complete attributes\n",
      "\n",
      "List of complete attributes that start with tm are: \n",
      "tm_gmtoff\n",
      "tm_hour\n",
      "tm_isdst\n",
      "tm_mday\n",
      "tm_min\n",
      "tm_mon\n",
      "tm_sec\n",
      "tm_wday\n",
      "tm_yday\n",
      "tm_year\n",
      "tm_zone\n"
     ]
    }
   ],
   "source": [
    "def local_time():\n",
    "    lt = time.localtime()\n",
    "    print(\"\\n The local time is: \", lt)\n",
    "    \n",
    "    print(\"\\nGet complete attributes\")\n",
    "    print(\"\\nList of complete attributes that start with tm are: \")\n",
    "    for i in dir(lt):      #dir is used to get complete list of attributes of the current variable which is localtime\n",
    "        if i.startswith('tm'):\n",
    "            print(i)\n",
    "            \n",
    "if __name__ == '__main__':\n",
    "    local_time()\n",
    "            "
   ]
  },
  {
   "cell_type": "markdown",
   "id": "a052311f",
   "metadata": {},
   "source": [
    "Let’s break down these attributes below:\n",
    "\n",
    "struct_time object"
   ]
  },
  {
   "cell_type": "markdown",
   "id": "aace7ee4",
   "metadata": {},
   "source": [
    "| Index | Attribute | Field            | Value         |\n",
    "|-------|-----------|------------------|---------------|\n",
    "| 0     | tm_year   | Year             | 4-digit year, 2021 |\n",
    "| 1     | tm_mon    | Month            | 1 to 12      |\n",
    "| 2     | tm_mday   | Day              | 1 to 31      |\n",
    "| 3     | tm_hour   | Hour             | 0 to 23      |\n",
    "| 4     | tm_min    | Minute           | 0 to 59      |\n",
    "| 5     | tm_sec    | Second           | 0 to 61      |\n",
    "| 6     | tm_wday   | Day of Week      | 0 to 6. Monday is 0 |\n",
    "| 7     | tm_yday   | Day of Year      | 1 to 366     |\n",
    "| 8     | tm_isdst  | Daylight savings | 0, 1 or -1   |\n",
    "| N/A   | tm_zone   | Timezone         | WAT, EST,... |\n",
    "| N/A   | tm_gmtoff | Offset east of UTC in seconds | 3600,... |\n",
    "\n",
    "\n",
    "These attributes can be accessed by their attribute names or indices. However, for tm_zone and tm_gmtoff, they don’t have any indices. Hence, it can be accessed only by attribute name.\n",
    "\n",
    "You can check markdown syntax for above table using [Markdown documentation](https://www.markdownguide.org/cheat-sheet/)"
   ]
  },
  {
   "cell_type": "markdown",
   "id": "a21f2fbd",
   "metadata": {},
   "source": [
    "#5) **time.strftime(format[, t])** function\n",
    "\n",
    "It converts time, t as a tuple or struct_time object commonly returned by time.gmtime() or time.localtime() to a string following the format argument.\n",
    "\n",
    "The first argument should be the format that the output string will adopt. Python has an awful lot of directives that can make up the format string. The table below shows the commonly used directives.\n",
    "\n",
    "**Directives that make up the format string**"
   ]
  },
  {
   "cell_type": "markdown",
   "id": "31701e2a",
   "metadata": {},
   "source": [
    "| Directive | Description                                    |\n",
    "|-----------|------------------------------------------------|\n",
    "| %a        | Locale’s abbreviated weekday name.              |\n",
    "| %b        | Locale’s abbreviated month name.                |\n",
    "| %c        | Locale’s appropriate date and time representation. |\n",
    "| %d        | Day of the month as a decimal number [01,31].   |\n",
    "| %H        | Hour (24-hour clock) as a decimal number [00,23]. |\n",
    "| %I        | Hour (12-hour clock) as a decimal number [01,12]. |\n",
    "| %m        | Month as a decimal number [01,12].              |\n",
    "| %M        | Minute as a decimal number [00,59].              |\n",
    "| %p        | Locale’s equivalent of either AM or PM.          |\n",
    "| %S        | Second as a decimal number [00,61].              |\n",
    "| %w        | Weekday as a decimal number [0(Sunday),6].       |\n",
    "| %x        | Locale’s appropriate date representation.        |\n",
    "| %Y        | Year with century as a decimal number.           |\n",
    "| %Z        | Time zone name (no characters if no time zone exists).|"
   ]
  },
  {
   "cell_type": "markdown",
   "id": "b554f3e0",
   "metadata": {},
   "source": [
    "**Example 6**: Format time similar to ctime(), using strftime()"
   ]
  },
  {
   "cell_type": "code",
   "execution_count": 4,
   "id": "407b71d5",
   "metadata": {},
   "outputs": [
    {
     "name": "stdout",
     "output_type": "stream",
     "text": [
      "Current time is:  Thu May 04 18:17:11 2023\n"
     ]
    }
   ],
   "source": [
    "def format_time(format,t):\n",
    "    formatted_time = time.strftime(format,t)\n",
    "    return formatted_time\n",
    "\n",
    "if __name__ == '__main__':\n",
    "    format = '%a %b %d %H:%M:%S %Y'\n",
    "    t = time.localtime()\n",
    "    time_formatted = format_time(format,t)\n",
    "    print(\"Current time is: \", time_formatted)"
   ]
  },
  {
   "cell_type": "markdown",
   "id": "3113fc28",
   "metadata": {},
   "source": [
    "# The DateTime module\n",
    "\n",
    "The DateTime module is used to work and display dates in a more convenient format. For example, say we want to find which date it will be 400 days from now, or what date was it 400 days ago, for cases like these, we use the DateTime module.\n",
    "\n",
    "The DateTime module has many types and constants. Let’s see all of them using the dir() method\n",
    "\n"
   ]
  },
  {
   "cell_type": "code",
   "execution_count": 1,
   "id": "58b2a31f",
   "metadata": {},
   "outputs": [
    {
     "name": "stdout",
     "output_type": "stream",
     "text": [
      "range(0, 10)\n"
     ]
    }
   ],
   "source": [
    "A1 = range(10)\n",
    "\n",
    "print(A1)"
   ]
  },
  {
   "cell_type": "markdown",
   "id": "11e5224b",
   "metadata": {},
   "source": [
    "## Pandas program to convert a series of date strings to a timeseries."
   ]
  },
  {
   "cell_type": "code",
   "execution_count": 12,
   "id": "8a91a5de",
   "metadata": {},
   "outputs": [
    {
     "data": {
      "text/plain": [
       "0    2015-01-01\n",
       "1    2016-10-02\n",
       "2    2018-03-07\n",
       "3    2014-05-06\n",
       "4    2016-04-12\n",
       "5    2019-04-06\n",
       "dtype: object"
      ]
     },
     "execution_count": 12,
     "metadata": {},
     "output_type": "execute_result"
    }
   ],
   "source": [
    "import pandas as pd\n",
    "from dateutil.parser import parse\n",
    "\n",
    "date_series = pd.Series(['01 Jan 2015', '10-02-2016', '20180307', '2014/05/06', '2016-04-12', '2019-04-06T11:20'])\n",
    "\n",
    "date_series = pd.to_datetime(date_series)\n",
    "\n",
    "giventime = date_series.dt.strftime('%Y-%m-%d')    \n",
    "\n",
    "giventime"
   ]
  },
  {
   "cell_type": "code",
   "execution_count": 22,
   "id": "b773f631",
   "metadata": {},
   "outputs": [
    {
     "data": {
      "text/plain": [
       "0   2015-01-15\n",
       "1   2016-02-15\n",
       "2   2017-03-15\n",
       "3   2018-04-15\n",
       "4   2019-05-15\n",
       "dtype: datetime64[ns]"
      ]
     },
     "execution_count": 22,
     "metadata": {},
     "output_type": "execute_result"
    }
   ],
   "source": [
    "date_series = pd.Series(['Jan 2015', 'Feb 2016', 'Mar 2017', 'Apr 2018', 'May 2019'])\n",
    "\n",
    "\n",
    "to_add = '15'\n",
    "\n",
    "date_series = date_series + ' ' + to_add\n",
    "\n",
    "date_series = pd.to_datetime(date_series, format = ('%b %Y %d'))\n",
    "\n",
    "date_series"
   ]
  },
  {
   "cell_type": "code",
   "execution_count": null,
   "id": "0f5a1adf",
   "metadata": {},
   "outputs": [],
   "source": []
  }
 ],
 "metadata": {
  "kernelspec": {
   "display_name": "Python 3 (ipykernel)",
   "language": "python",
   "name": "python3"
  },
  "language_info": {
   "codemirror_mode": {
    "name": "ipython",
    "version": 3
   },
   "file_extension": ".py",
   "mimetype": "text/x-python",
   "name": "python",
   "nbconvert_exporter": "python",
   "pygments_lexer": "ipython3",
   "version": "3.9.13"
  }
 },
 "nbformat": 4,
 "nbformat_minor": 5
}
