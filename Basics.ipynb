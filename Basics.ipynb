{
 "cells": [
  {
   "cell_type": "code",
   "execution_count": 6,
   "id": "5bfdfa11",
   "metadata": {},
   "outputs": [],
   "source": [
    "import pandas as pd\n",
    "import numpy as np\n",
    "import matplotlib.pyplot as plt\n"
   ]
  },
  {
   "cell_type": "code",
   "execution_count": 18,
   "id": "ff29bf38",
   "metadata": {},
   "outputs": [],
   "source": [
    "df1 = pd.Series([1,2,3,4,5,6])"
   ]
  },
  {
   "cell_type": "code",
   "execution_count": 19,
   "id": "47e4a238",
   "metadata": {},
   "outputs": [
    {
     "data": {
      "text/plain": [
       "0    1\n",
       "1    2\n",
       "2    3\n",
       "3    4\n",
       "4    5\n",
       "5    6\n",
       "dtype: int64"
      ]
     },
     "execution_count": 19,
     "metadata": {},
     "output_type": "execute_result"
    }
   ],
   "source": [
    "df1"
   ]
  },
  {
   "cell_type": "code",
   "execution_count": 20,
   "id": "2b5ae06f",
   "metadata": {},
   "outputs": [
    {
     "data": {
      "text/plain": [
       "[1, 2, 3, 4, 5, 6]"
      ]
     },
     "execution_count": 20,
     "metadata": {},
     "output_type": "execute_result"
    }
   ],
   "source": [
    "df2 = df1.to_list()\n",
    "df2"
   ]
  },
  {
   "cell_type": "code",
   "execution_count": 23,
   "id": "ebe2b677",
   "metadata": {},
   "outputs": [
    {
     "data": {
      "text/plain": [
       "0    3\n",
       "1    4\n",
       "2    5\n",
       "3    6\n",
       "4    7\n",
       "5    8\n",
       "dtype: int64"
      ]
     },
     "execution_count": 23,
     "metadata": {},
     "output_type": "execute_result"
    }
   ],
   "source": [
    "df3 = pd.Series([3,4,5,6,7,8])\n",
    "df3"
   ]
  },
  {
   "cell_type": "code",
   "execution_count": 31,
   "id": "278172fd",
   "metadata": {},
   "outputs": [],
   "source": [
    "df4 = df1+df3"
   ]
  },
  {
   "cell_type": "code",
   "execution_count": 32,
   "id": "4e3823e4",
   "metadata": {},
   "outputs": [
    {
     "data": {
      "text/plain": [
       "0     4\n",
       "1     6\n",
       "2     8\n",
       "3    10\n",
       "4    12\n",
       "5    14\n",
       "dtype: int64"
      ]
     },
     "execution_count": 32,
     "metadata": {},
     "output_type": "execute_result"
    }
   ],
   "source": [
    "df4"
   ]
  },
  {
   "cell_type": "code",
   "execution_count": 37,
   "id": "ce5e4ec6",
   "metadata": {},
   "outputs": [
    {
     "data": {
      "text/plain": [
       "array([1, 2, 3, 4, 5, 6])"
      ]
     },
     "execution_count": 37,
     "metadata": {},
     "output_type": "execute_result"
    }
   ],
   "source": [
    "ds1=np.array(df1) #or df1.values\n",
    "\n",
    "ds1"
   ]
  },
  {
   "cell_type": "code",
   "execution_count": 39,
   "id": "d2fdcffb",
   "metadata": {},
   "outputs": [
    {
     "data": {
      "text/plain": [
       "0    1\n",
       "1    2\n",
       "2    3\n",
       "3    4\n",
       "4    5\n",
       "5    6\n",
       "dtype: int64"
      ]
     },
     "execution_count": 39,
     "metadata": {},
     "output_type": "execute_result"
    }
   ],
   "source": [
    "ds2 = pd.Series(ds1)\n",
    "ds2"
   ]
  },
  {
   "cell_type": "code",
   "execution_count": 137,
   "id": "15aca488",
   "metadata": {},
   "outputs": [
    {
     "name": "stdout",
     "output_type": "stream",
     "text": [
      "Original Data Series:\n",
      "0         1\n",
      "1         2\n",
      "2    Python\n",
      "3       3.2\n",
      "4         4\n",
      "5      10.1\n",
      "dtype: object\n",
      "0         1\n",
      "5      10.1\n",
      "1         2\n",
      "3       3.2\n",
      "4         4\n",
      "2    Python\n",
      "dtype: object\n"
     ]
    }
   ],
   "source": [
    "s = pd.Series(['1','2', 'Python', '3.2', '4','10.1'])\n",
    "print(\"Original Data Series:\")\n",
    "print(s)\n",
    "\n",
    "new_s = s.sort_values()\n",
    "print(new_s)\n",
    "\n",
    "# ser1 = pd.to_numeric(ser, errors = 'coerce')\n",
    "\n",
    "# ser2 = ser1.astype('int64')\n",
    "# print(ser2)\n",
    "\n",
    " \n",
    "# ser1.sort_values(ascending = True)\n"
   ]
  },
  {
   "cell_type": "code",
   "execution_count": 43,
   "id": "f93f80ce",
   "metadata": {},
   "outputs": [
    {
     "data": {
      "text/plain": [
       "0    1.0\n",
       "1    2.0\n",
       "2    3.0\n",
       "3    NaN\n",
       "4    1.2\n",
       "5    4.0\n",
       "dtype: float64"
      ]
     },
     "execution_count": 43,
     "metadata": {},
     "output_type": "execute_result"
    }
   ],
   "source": [
    "df = pd.to_numeric(ser, errors = 'coerce') #coerce will help to parce python string as NaN and wont raise any errors. \n",
    "\n",
    "df"
   ]
  },
  {
   "cell_type": "code",
   "execution_count": 56,
   "id": "6e5d5bc4",
   "metadata": {},
   "outputs": [
    {
     "data": {
      "text/html": [
       "<div>\n",
       "<style scoped>\n",
       "    .dataframe tbody tr th:only-of-type {\n",
       "        vertical-align: middle;\n",
       "    }\n",
       "\n",
       "    .dataframe tbody tr th {\n",
       "        vertical-align: top;\n",
       "    }\n",
       "\n",
       "    .dataframe thead th {\n",
       "        text-align: right;\n",
       "    }\n",
       "</style>\n",
       "<table border=\"1\" class=\"dataframe\">\n",
       "  <thead>\n",
       "    <tr style=\"text-align: right;\">\n",
       "      <th></th>\n",
       "      <th>col1</th>\n",
       "      <th>col2</th>\n",
       "    </tr>\n",
       "  </thead>\n",
       "  <tbody>\n",
       "    <tr>\n",
       "      <th>0</th>\n",
       "      <td>1</td>\n",
       "      <td>3</td>\n",
       "    </tr>\n",
       "    <tr>\n",
       "      <th>1</th>\n",
       "      <td>2</td>\n",
       "      <td>4</td>\n",
       "    </tr>\n",
       "  </tbody>\n",
       "</table>\n",
       "</div>"
      ],
      "text/plain": [
       "   col1  col2\n",
       "0     1     3\n",
       "1     2     4"
      ]
     },
     "execution_count": 56,
     "metadata": {},
     "output_type": "execute_result"
    }
   ],
   "source": [
    "df = pd.DataFrame({'col1': [1,2], 'col2': [3,4]})\n",
    "\n",
    "df"
   ]
  },
  {
   "cell_type": "markdown",
   "id": "d81b1e2a",
   "metadata": {},
   "source": [
    "## Convert a particular column to series"
   ]
  },
  {
   "cell_type": "code",
   "execution_count": 59,
   "id": "f74a1ad7",
   "metadata": {},
   "outputs": [
    {
     "data": {
      "text/plain": [
       "0    3\n",
       "1    4\n",
       "Name: col2, dtype: int64"
      ]
     },
     "execution_count": 59,
     "metadata": {},
     "output_type": "execute_result"
    }
   ],
   "source": [
    "# df['col1'] #directly using this.\n",
    "\n",
    "# df.loc[:, 'col1']  #retrieve using loc and column name\n",
    "\n",
    "df.iloc[:,1]   #retrieve 2nd column"
   ]
  },
  {
   "cell_type": "markdown",
   "id": "17a894ad",
   "metadata": {},
   "source": [
    "## To convert series of list to one series. \n",
    "\n",
    "Use apply and stack method"
   ]
  },
  {
   "cell_type": "code",
   "execution_count": 61,
   "id": "f1d15bfd",
   "metadata": {},
   "outputs": [
    {
     "data": {
      "text/plain": [
       "col1    [Red, Green, Black]\n",
       "col2       [Yellow, Orange]\n",
       "col3                  Black\n",
       "dtype: object"
      ]
     },
     "execution_count": 61,
     "metadata": {},
     "output_type": "execute_result"
    }
   ],
   "source": [
    "_list = pd.Series({'col1': ['Red', 'Green', 'Black'], 'col2': ['Yellow', 'Orange'], 'col3': 'Black'})\n",
    "\n",
    "_list"
   ]
  },
  {
   "cell_type": "code",
   "execution_count": 62,
   "id": "026c094c",
   "metadata": {},
   "outputs": [
    {
     "data": {
      "text/plain": [
       "0       Red\n",
       "1     Green\n",
       "2     Black\n",
       "3    Yellow\n",
       "4    Orange\n",
       "5     Black\n",
       "dtype: object"
      ]
     },
     "execution_count": 62,
     "metadata": {},
     "output_type": "execute_result"
    }
   ],
   "source": [
    "d2 = _list.apply(pd.Series).stack().reset_index(drop= True)\n",
    "\n",
    "d2"
   ]
  },
  {
   "cell_type": "code",
   "execution_count": 192,
   "id": "1775b5a6",
   "metadata": {},
   "outputs": [
    {
     "name": "stdout",
     "output_type": "stream",
     "text": [
      "Before sorting 0    100.00\n",
      "1      1.00\n",
      "2       NaN\n",
      "3      3.12\n",
      "4    400.00\n",
      "dtype: float64\n",
      "1      1\n",
      "3      3\n",
      "0    100\n",
      "4    400\n",
      "dtype: int64\n"
     ]
    }
   ],
   "source": [
    "s = pd.Series(['100', '1', 'python', '3.12', '400'])\n",
    "\n",
    "w = pd.to_numeric(s, errors = 'coerce')\n",
    "\n",
    "# w = s.tolist()\n",
    "\n",
    "print('Before sorting', w)\n",
    "\n",
    "drpna = w.dropna()\n",
    "\n",
    "cnvrtd = drpna.astype(int)\n",
    "    \n",
    "nwcnvrtd = cnvrtd.sort_values()\n",
    "\n",
    "print(nwcnvrtd)"
   ]
  },
  {
   "cell_type": "code",
   "execution_count": 194,
   "id": "97747fa3",
   "metadata": {},
   "outputs": [
    {
     "data": {
      "text/plain": [
       "0      1\n",
       "1      3\n",
       "2    100\n",
       "3    400\n",
       "4    500\n",
       "5    php\n",
       "dtype: object"
      ]
     },
     "execution_count": 194,
     "metadata": {},
     "output_type": "execute_result"
    }
   ],
   "source": [
    "newss = pd.concat([nwcnvrtd, pd.Series([500,'php'])], ignore_index= True)\n",
    "\n",
    "newss"
   ]
  },
  {
   "cell_type": "code",
   "execution_count": 196,
   "id": "6d6e063f",
   "metadata": {},
   "outputs": [
    {
     "data": {
      "text/plain": [
       "0      1\n",
       "1      3\n",
       "2    100\n",
       "3    400\n",
       "dtype: object"
      ]
     },
     "execution_count": 196,
     "metadata": {},
     "output_type": "execute_result"
    }
   ],
   "source": [
    "news1 = newss.loc[0:3]   #to get a subset of the original series.\n",
    "\n",
    "news1"
   ]
  },
  {
   "cell_type": "code",
   "execution_count": 200,
   "id": "61c80429",
   "metadata": {},
   "outputs": [
    {
     "ename": "ModuleNotFoundError",
     "evalue": "No module named 'pygwalker'",
     "output_type": "error",
     "traceback": [
      "\u001b[0;31m---------------------------------------------------------------------------\u001b[0m",
      "\u001b[0;31mModuleNotFoundError\u001b[0m                       Traceback (most recent call last)",
      "\u001b[0;32m/var/folders/g9/ls79zdln1rl3jp8k_g_4p6s00000gn/T/ipykernel_7939/2407608805.py\u001b[0m in \u001b[0;36m<module>\u001b[0;34m\u001b[0m\n\u001b[0;32m----> 1\u001b[0;31m \u001b[0;32mimport\u001b[0m \u001b[0mpygwalker\u001b[0m \u001b[0;32mas\u001b[0m \u001b[0mpyg\u001b[0m\u001b[0;34m\u001b[0m\u001b[0;34m\u001b[0m\u001b[0m\n\u001b[0m\u001b[1;32m      2\u001b[0m \u001b[0;34m\u001b[0m\u001b[0m\n\u001b[1;32m      3\u001b[0m \u001b[0mdf\u001b[0m \u001b[0;34m=\u001b[0m \u001b[0mpd\u001b[0m\u001b[0;34m.\u001b[0m\u001b[0mread_csv\u001b[0m\u001b[0;34m(\u001b[0m\u001b[0;34m'./circuits.csv'\u001b[0m\u001b[0;34m)\u001b[0m\u001b[0;34m\u001b[0m\u001b[0;34m\u001b[0m\u001b[0m\n\u001b[1;32m      4\u001b[0m \u001b[0mgwalker\u001b[0m \u001b[0;34m=\u001b[0m \u001b[0mpyg\u001b[0m\u001b[0;34m.\u001b[0m\u001b[0mwalk\u001b[0m\u001b[0;34m(\u001b[0m\u001b[0mdf\u001b[0m\u001b[0;34m)\u001b[0m\u001b[0;34m\u001b[0m\u001b[0;34m\u001b[0m\u001b[0m\n",
      "\u001b[0;31mModuleNotFoundError\u001b[0m: No module named 'pygwalker'"
     ]
    }
   ],
   "source": [
    "import pygwalker as pyg\n",
    "\n",
    "df = pd.read_csv('./circuits.csv')\n",
    "gwalker = pyg.walk(df)"
   ]
  },
  {
   "cell_type": "code",
   "execution_count": 202,
   "id": "0f70ee21",
   "metadata": {},
   "outputs": [],
   "source": [
    "!pip list | grep pygwalker\n"
   ]
  },
  {
   "cell_type": "code",
   "execution_count": 203,
   "id": "3925f8f0",
   "metadata": {},
   "outputs": [
    {
     "name": "stdout",
     "output_type": "stream",
     "text": [
      "<class 'str'>\n",
      "<class 'int'>\n"
     ]
    }
   ],
   "source": [
    "temp = 'Python'\n",
    "print(type(temp))\n",
    "\n",
    "temp = 20\n",
    "print(type(temp))"
   ]
  },
  {
   "cell_type": "code",
   "execution_count": 205,
   "id": "f1d42b2f",
   "metadata": {},
   "outputs": [
    {
     "data": {
      "text/plain": [
       "0.1"
      ]
     },
     "execution_count": 205,
     "metadata": {},
     "output_type": "execute_result"
    }
   ],
   "source": [
    "import math\n",
    "math.fsum([0.01 for i in range(10)])"
   ]
  },
  {
   "cell_type": "code",
   "execution_count": 211,
   "id": "55c3c9c1",
   "metadata": {},
   "outputs": [
    {
     "name": "stdout",
     "output_type": "stream",
     "text": [
      "10\n",
      "1\n"
     ]
    }
   ],
   "source": [
    "def test():\n",
    "    x = 10\n",
    "    print(x)\n",
    "    x =+ 1 \n",
    "    print(x)\n",
    "test()"
   ]
  },
  {
   "cell_type": "markdown",
   "id": "52670d07",
   "metadata": {},
   "source": [
    "## To change the order of Series by changing the index \n",
    "\n",
    "Use reindex method"
   ]
  },
  {
   "cell_type": "code",
   "execution_count": 212,
   "id": "6fba75cd",
   "metadata": {},
   "outputs": [
    {
     "data": {
      "text/plain": [
       "A    1\n",
       "B    2\n",
       "C    3\n",
       "D    4\n",
       "E    5\n",
       "F    6\n",
       "G    7\n",
       "dtype: int64"
      ]
     },
     "execution_count": 212,
     "metadata": {},
     "output_type": "execute_result"
    }
   ],
   "source": [
    "s = pd.Series([1,2,3,4,5,6,7], index = ['A','B','C', 'D', 'E', 'F', 'G'] )\n",
    "\n",
    "s"
   ]
  },
  {
   "cell_type": "code",
   "execution_count": 214,
   "id": "e41873da",
   "metadata": {},
   "outputs": [
    {
     "data": {
      "text/plain": [
       "B    2\n",
       "A    1\n",
       "D    4\n",
       "C    3\n",
       "E    5\n",
       "F    6\n",
       "G    7\n",
       "dtype: int64"
      ]
     },
     "execution_count": 214,
     "metadata": {},
     "output_type": "execute_result"
    }
   ],
   "source": [
    "rei = s.reindex(index = ['B','A','D','C', 'E', 'F','G'])\n",
    "\n",
    "rei"
   ]
  },
  {
   "cell_type": "markdown",
   "id": "4d950271",
   "metadata": {},
   "source": [
    "## To find the mean and std deviation\n",
    "\n",
    "Use mean and std function"
   ]
  },
  {
   "cell_type": "code",
   "execution_count": 229,
   "id": "7e55aa7f",
   "metadata": {},
   "outputs": [
    {
     "name": "stdout",
     "output_type": "stream",
     "text": [
      "\n",
      " The original series is: \n",
      " a    1\n",
      "b    2\n",
      "c    3\n",
      "d    4\n",
      "e    5\n",
      "f    6\n",
      "g    7\n",
      "h    8\n",
      "i    9\n",
      "dtype: int64\n",
      "\n",
      " The calculated mean is 5.0\n",
      "\n",
      " Te calculated std deviation is: 2.74\n"
     ]
    }
   ],
   "source": [
    "s = pd.Series([1,2,3,4,5,6,7,8,9], index = ['a', 'b','c', 'd','e','f','g','h', 'i'])\n",
    "\n",
    "print(\"\\n The original series is: \\n\", s)\n",
    "\n",
    "calme = s.mean()\n",
    "print(\"\\n The calculated mean is\", calme)\n",
    "\n",
    "calstd = s.std()\n",
    "\n",
    "adjustdval = round(calstd,2)   #use round function to round the decimal places to two.\n",
    "\n",
    "\n",
    "print(\"\\n Te calculated std deviation is:\", adjustdval)"
   ]
  },
  {
   "cell_type": "code",
   "execution_count": 230,
   "id": "bd585e09",
   "metadata": {},
   "outputs": [
    {
     "data": {
      "text/plain": [
       "A  1    10\n",
       "   2    20\n",
       "B  1    30\n",
       "   2    40\n",
       "dtype: int64"
      ]
     },
     "execution_count": 230,
     "metadata": {},
     "output_type": "execute_result"
    }
   ],
   "source": [
    "index = pd.MultiIndex.from_tuples([('A', 1), ('A', 2), ('B', 1), ('B', 2)])\n",
    "s = pd.Series([10, 20, 30, 40], index=index)\n",
    "\n",
    "s"
   ]
  },
  {
   "cell_type": "code",
   "execution_count": 232,
   "id": "84324645",
   "metadata": {},
   "outputs": [
    {
     "name": "stdout",
     "output_type": "stream",
     "text": [
      "Empty DataFrame\n",
      "Columns: []\n",
      "Index: [10, 20, 30]\n"
     ]
    }
   ],
   "source": [
    "df = pd.DataFrame({'values': [10, 20, 30]}, index=['a', 'b', 'c'])\n",
    "df.set_index('values', inplace=True)\n",
    "\n",
    "print(df)\n"
   ]
  },
  {
   "cell_type": "code",
   "execution_count": 233,
   "id": "a3efaf0a",
   "metadata": {},
   "outputs": [
    {
     "name": "stdout",
     "output_type": "stream",
     "text": [
      "Series1 is:\n",
      " 0    1\n",
      "1    2\n",
      "2    3\n",
      "3    4\n",
      "4    5\n",
      "5    6\n",
      "6    7\n",
      "7    8\n",
      "8    9\n",
      "dtype: int64\n",
      "Series2 is:\n",
      " 0     2\n",
      "1     4\n",
      "2     6\n",
      "3     8\n",
      "4    10\n",
      "5    12\n",
      "dtype: int64\n"
     ]
    }
   ],
   "source": [
    "s1 = pd.Series([1,2,3,4,5,6,7,8,9])\n",
    "\n",
    "print('Series1 is:\\n', s1)\n",
    "\n",
    "s2 = pd.Series([2,4,6,8,10,12])\n",
    "\n",
    "print('Series2 is:\\n', s2)\n"
   ]
  },
  {
   "cell_type": "markdown",
   "id": "0052c9b9",
   "metadata": {},
   "source": [
    "## To find common and uncommon elements in a series"
   ]
  },
  {
   "cell_type": "code",
   "execution_count": 255,
   "id": "1689e508",
   "metadata": {},
   "outputs": [
    {
     "data": {
      "text/plain": [
       "[{2, 4, 6, 8}]"
      ]
     },
     "execution_count": 255,
     "metadata": {},
     "output_type": "execute_result"
    }
   ],
   "source": [
    "inter = [set(s1) & set(s2)]    # common elements\n",
    "\n",
    "inter"
   ]
  },
  {
   "cell_type": "code",
   "execution_count": 261,
   "id": "4b065ee3",
   "metadata": {},
   "outputs": [
    {
     "data": {
      "text/plain": [
       "{2, 4, 6, 8}"
      ]
     },
     "execution_count": 261,
     "metadata": {},
     "output_type": "execute_result"
    }
   ],
   "source": [
    "(set(s1).intersection(set(s2)))  #another method to find commmon elements\n"
   ]
  },
  {
   "cell_type": "code",
   "execution_count": 263,
   "id": "e216e954",
   "metadata": {},
   "outputs": [
    {
     "data": {
      "text/plain": [
       "array([2, 4, 6, 8])"
      ]
     },
     "execution_count": 263,
     "metadata": {},
     "output_type": "execute_result"
    }
   ],
   "source": [
    "inter = np.intersect1d(s1,s2) #another method to find commmon elements\n",
    "\n",
    "inter"
   ]
  },
  {
   "cell_type": "code",
   "execution_count": 264,
   "id": "b3e4d2c5",
   "metadata": {},
   "outputs": [
    {
     "data": {
      "text/plain": [
       "{1, 3, 5, 7, 9}"
      ]
     },
     "execution_count": 264,
     "metadata": {},
     "output_type": "execute_result"
    }
   ],
   "source": [
    "uncommon = set(s1) - set(s2)   #uncommon elements\n",
    "\n",
    "uncommon"
   ]
  },
  {
   "cell_type": "code",
   "execution_count": 278,
   "id": "0f9fa6b3",
   "metadata": {},
   "outputs": [
    {
     "data": {
      "text/plain": [
       "0    1\n",
       "2    3\n",
       "4    5\n",
       "6    7\n",
       "8    9\n",
       "dtype: int64"
      ]
     },
     "execution_count": 278,
     "metadata": {},
     "output_type": "execute_result"
    }
   ],
   "source": [
    "uncommon1 = s1[~s1.isin(s2)]  #another method to find uncommon elements.\n",
    "uncommon1"
   ]
  },
  {
   "cell_type": "code",
   "execution_count": 280,
   "id": "31dd404e",
   "metadata": {
    "scrolled": false
   },
   "outputs": [
    {
     "data": {
      "text/plain": [
       "(0    1\n",
       " 1    2\n",
       " 2    3\n",
       " 3    4\n",
       " 4    5\n",
       " 5    6\n",
       " 6    7\n",
       " 7    8\n",
       " 8    9\n",
       " dtype: int64,\n",
       " 0     2\n",
       " 1     4\n",
       " 2     6\n",
       " 3     8\n",
       " 4    10\n",
       " 5    12\n",
       " dtype: int64,\n",
       " [6, 7, 8, 9])"
      ]
     },
     "execution_count": 280,
     "metadata": {},
     "output_type": "execute_result"
    }
   ],
   "source": [
    "uncommon_elements = [x for x in s1 if x not in s2]      ###this method compares indexes. \n",
    "\n",
    "s1, s2, uncommon_elements       "
   ]
  },
  {
   "cell_type": "code",
   "execution_count": 281,
   "id": "42e9c2f3",
   "metadata": {},
   "outputs": [
    {
     "data": {
      "text/plain": [
       "(0    1\n",
       " 1    2\n",
       " 2    3\n",
       " 3    4\n",
       " 4    5\n",
       " 5    6\n",
       " 6    7\n",
       " 7    8\n",
       " 8    9\n",
       " dtype: int64,\n",
       " 0     2\n",
       " 1     4\n",
       " 2     6\n",
       " 3     8\n",
       " 4    10\n",
       " 5    12\n",
       " dtype: int64)"
      ]
     },
     "execution_count": 281,
     "metadata": {},
     "output_type": "execute_result"
    }
   ],
   "source": [
    "s1,s2"
   ]
  },
  {
   "cell_type": "markdown",
   "id": "3bf23823",
   "metadata": {},
   "source": [
    "## Elements not common in two series"
   ]
  },
  {
   "cell_type": "code",
   "execution_count": 286,
   "id": "db1d1574",
   "metadata": {},
   "outputs": [
    {
     "data": {
      "text/plain": [
       "array([ 1,  2,  3,  4,  5,  6,  7,  8,  9, 10, 12])"
      ]
     },
     "execution_count": 286,
     "metadata": {},
     "output_type": "execute_result"
    }
   ],
   "source": [
    "uni = np.union1d(s1,s2)\n",
    "\n",
    "uni"
   ]
  },
  {
   "cell_type": "code",
   "execution_count": 287,
   "id": "1369527c",
   "metadata": {},
   "outputs": [
    {
     "data": {
      "text/plain": [
       "array([2, 4, 6, 8])"
      ]
     },
     "execution_count": 287,
     "metadata": {},
     "output_type": "execute_result"
    }
   ],
   "source": [
    "inter1 = np.intersect1d(s1,s2)\n",
    "\n",
    "inter1"
   ]
  },
  {
   "cell_type": "code",
   "execution_count": 290,
   "id": "801b8a0d",
   "metadata": {},
   "outputs": [
    {
     "data": {
      "text/plain": [
       "{1, 3, 5, 7, 9, 10, 12}"
      ]
     },
     "execution_count": 290,
     "metadata": {},
     "output_type": "execute_result"
    }
   ],
   "source": [
    "uncom = set(uni) - set(inter1)\n",
    "\n",
    "uncom"
   ]
  },
  {
   "cell_type": "markdown",
   "id": "68017cff",
   "metadata": {},
   "source": [
    "## To compute the minimum, 25th percentile, median, 75th, and maximum of a given series."
   ]
  },
  {
   "cell_type": "code",
   "execution_count": 294,
   "id": "8fb13cc3",
   "metadata": {},
   "outputs": [
    {
     "data": {
      "text/plain": [
       "RandomState(MT19937) at 0x7FED0079CA40"
      ]
     },
     "execution_count": 294,
     "metadata": {},
     "output_type": "execute_result"
    }
   ],
   "source": [
    "new_state = np.random.RandomState(100)\n",
    "\n",
    "new_state"
   ]
  },
  {
   "cell_type": "code",
   "execution_count": 301,
   "id": "c9d5d43c",
   "metadata": {},
   "outputs": [
    {
     "data": {
      "text/plain": [
       "0      3.837536\n",
       "1     18.186856\n",
       "2      4.412003\n",
       "3      5.611312\n",
       "4      9.045149\n",
       "5      4.283732\n",
       "6     13.796019\n",
       "7      9.922410\n",
       "8     13.578391\n",
       "9     13.038772\n",
       "10     4.009118\n",
       "11     5.224456\n",
       "12    15.185050\n",
       "13    13.809103\n",
       "14     5.130983\n",
       "15     9.370939\n",
       "16     3.969659\n",
       "17    10.431537\n",
       "18    12.988223\n",
       "19    11.718706\n",
       "dtype: float64"
      ]
     },
     "execution_count": 301,
     "metadata": {},
     "output_type": "execute_result"
    }
   ],
   "source": [
    "num_sries = pd.Series(new_state.normal(10,4,20))\n",
    "\n",
    "num_sries"
   ]
  },
  {
   "cell_type": "code",
   "execution_count": 302,
   "id": "3045cea9",
   "metadata": {},
   "outputs": [
    {
     "name": "stdout",
     "output_type": "stream",
     "text": [
      "[ 3.8375359   4.95123826  9.64667449 13.17367707 18.18685587]\n"
     ]
    }
   ],
   "source": [
    "result = np.percentile(num_sries, q = [0,25,50,75,100])\n",
    "\n",
    "print(result)"
   ]
  },
  {
   "cell_type": "markdown",
   "id": "1de1f41c",
   "metadata": {},
   "source": [
    "## To calculate the frequency of a given series elements"
   ]
  },
  {
   "cell_type": "code",
   "execution_count": 315,
   "id": "aa4e6eb6",
   "metadata": {},
   "outputs": [
    {
     "data": {
      "text/plain": [
       "{2: 3, 1: 2, 5: 2, 7: 2, 8: 2, 9: 2, 10: 2, 3: 1, 4: 1, 6: 1, 0: 1}"
      ]
     },
     "execution_count": 315,
     "metadata": {},
     "output_type": "execute_result"
    }
   ],
   "source": [
    "qw = pd.Series([1,2,1,2,2,3,4,5,6,7,8,9,10,5,7,8,9,0,10])\n",
    "\n",
    "qw.value_counts().to_dict()       #to count freq."
   ]
  },
  {
   "cell_type": "code",
   "execution_count": 310,
   "id": "b9cdf074",
   "metadata": {},
   "outputs": [
    {
     "name": "stdout",
     "output_type": "stream",
     "text": [
      "{1: 2, 2: 3, 3: 1, 4: 1, 5: 2, 6: 1, 7: 2, 8: 2, 9: 2, 10: 2, 0: 1}\n",
      "\n",
      " New series: 0     Others\n",
      "1          2\n",
      "2     Others\n",
      "3          2\n",
      "4          2\n",
      "5     Others\n",
      "6     Others\n",
      "7     Others\n",
      "8     Others\n",
      "9     Others\n",
      "10    Others\n",
      "11    Others\n",
      "12    Others\n",
      "13    Others\n",
      "14    Others\n",
      "15    Others\n",
      "16    Others\n",
      "17    Others\n",
      "18    Others\n",
      "dtype: object\n"
     ]
    }
   ],
   "source": [
    "freq = {}\n",
    "\n",
    "for x in qw:\n",
    "    if x in freq:\n",
    "        freq[x] += 1\n",
    "    else:\n",
    "        freq[x] = 1\n",
    "print(freq)\n",
    "\n",
    "######above code can be replaced by single line code. i.e. qw.value_counts().to_dict()  ############\n",
    "\n",
    "\n",
    "most_freq = max(freq, key=freq.get)    #to get the element that is repeated most number of times.\n",
    "\n",
    "new_qw = qw.apply(lambda x: most_freq if freq[x] == freq[most_freq] else 'Others')\n",
    "\n",
    "print(\"\\n New series:\", new_qw)"
   ]
  },
  {
   "cell_type": "markdown",
   "id": "1f7dc6d5",
   "metadata": {},
   "source": [
    "   ## To get the positions of items of a given series in another given series"
   ]
  },
  {
   "cell_type": "code",
   "execution_count": 5,
   "id": "a734ede0",
   "metadata": {},
   "outputs": [
    {
     "ename": "NameError",
     "evalue": "name 'pd' is not defined",
     "output_type": "error",
     "traceback": [
      "\u001b[0;31m---------------------------------------------------------------------------\u001b[0m",
      "\u001b[0;31mNameError\u001b[0m                                 Traceback (most recent call last)",
      "\u001b[0;32m/var/folders/g9/ls79zdln1rl3jp8k_g_4p6s00000gn/T/ipykernel_847/3459470568.py\u001b[0m in \u001b[0;36m<module>\u001b[0;34m\u001b[0m\n\u001b[1;32m      1\u001b[0m \u001b[0;31m#to find out the position of ss2 in ss1.\u001b[0m\u001b[0;34m\u001b[0m\u001b[0;34m\u001b[0m\u001b[0m\n\u001b[1;32m      2\u001b[0m \u001b[0;34m\u001b[0m\u001b[0m\n\u001b[0;32m----> 3\u001b[0;31m \u001b[0mss1\u001b[0m \u001b[0;34m=\u001b[0m \u001b[0mpd\u001b[0m\u001b[0;34m.\u001b[0m\u001b[0mSeries\u001b[0m\u001b[0;34m(\u001b[0m\u001b[0;34m[\u001b[0m\u001b[0;36m1\u001b[0m\u001b[0;34m,\u001b[0m\u001b[0;36m2\u001b[0m\u001b[0;34m,\u001b[0m\u001b[0;36m3\u001b[0m\u001b[0;34m,\u001b[0m\u001b[0;36m4\u001b[0m\u001b[0;34m,\u001b[0m\u001b[0;36m5\u001b[0m\u001b[0;34m,\u001b[0m\u001b[0;36m6\u001b[0m\u001b[0;34m,\u001b[0m\u001b[0;36m7\u001b[0m\u001b[0;34m,\u001b[0m\u001b[0;36m8\u001b[0m\u001b[0;34m,\u001b[0m\u001b[0;36m9\u001b[0m\u001b[0;34m,\u001b[0m\u001b[0;36m10\u001b[0m\u001b[0;34m]\u001b[0m\u001b[0;34m)\u001b[0m\u001b[0;34m\u001b[0m\u001b[0;34m\u001b[0m\u001b[0m\n\u001b[0m\u001b[1;32m      4\u001b[0m \u001b[0;34m\u001b[0m\u001b[0m\n\u001b[1;32m      5\u001b[0m \u001b[0mss2\u001b[0m \u001b[0;34m=\u001b[0m \u001b[0mpd\u001b[0m\u001b[0;34m.\u001b[0m\u001b[0mSeries\u001b[0m\u001b[0;34m(\u001b[0m\u001b[0;34m[\u001b[0m\u001b[0;36m2\u001b[0m\u001b[0;34m,\u001b[0m\u001b[0;36m3\u001b[0m\u001b[0;34m,\u001b[0m\u001b[0;36m4\u001b[0m\u001b[0;34m,\u001b[0m\u001b[0;36m5\u001b[0m\u001b[0;34m,\u001b[0m\u001b[0;36m6\u001b[0m\u001b[0;34m,\u001b[0m\u001b[0;36m7\u001b[0m\u001b[0;34m,\u001b[0m\u001b[0;36m8\u001b[0m\u001b[0;34m,\u001b[0m\u001b[0;36m9\u001b[0m\u001b[0;34m,\u001b[0m\u001b[0;36m10\u001b[0m\u001b[0;34m]\u001b[0m\u001b[0;34m)\u001b[0m\u001b[0;34m\u001b[0m\u001b[0;34m\u001b[0m\u001b[0m\n",
      "\u001b[0;31mNameError\u001b[0m: name 'pd' is not defined"
     ]
    }
   ],
   "source": [
    "#to find out the position of ss2 in ss1.\n",
    "\n",
    "ss1 = pd.Series([1,2,3,4,5,6,7,8,9,10])\n",
    "\n",
    "ss2 = pd.Series([2,3,4,5,6,7,8,9,10])  \n",
    "\n",
    "index_ss1 = pd.Index(ss1)\n",
    "getpos = [pd.Index(ss1).get_loc(i) for i in ss2]\n",
    "\n",
    "print(getpos)"
   ]
  },
  {
   "cell_type": "markdown",
   "id": "205c4eaf",
   "metadata": {},
   "source": [
    "## Convert  first and last word of a string to uppercase"
   ]
  },
  {
   "cell_type": "code",
   "execution_count": 330,
   "id": "40a267c9",
   "metadata": {},
   "outputs": [
    {
     "name": "stdout",
     "output_type": "stream",
     "text": [
      "0       AbC\n",
      "1       DeF\n",
      "2      AjaY\n",
      "3    DeepaK\n",
      "4      AjaY\n",
      "5      AjaY\n",
      "dtype: object\n"
     ]
    }
   ],
   "source": [
    "as1 = pd.Series(['abc','def', 'AjaY', 'Deepak', 'ajaY', 'ajay'])\n",
    "\n",
    "as2 = as1.map(lambda x: x[0].upper() + x[1:-1] + x[-1].upper())\n",
    "\n",
    "print(as2)"
   ]
  },
  {
   "cell_type": "code",
   "execution_count": 331,
   "id": "9c068849",
   "metadata": {},
   "outputs": [
    {
     "data": {
      "text/plain": [
       "0    2\n",
       "1    3\n",
       "2    4\n",
       "3    6\n",
       "4    6\n",
       "5    8\n",
       "dtype: int64"
      ]
     },
     "execution_count": 331,
     "metadata": {},
     "output_type": "execute_result"
    }
   ],
   "source": [
    "az = pd.Series(['xx', 'xxx','xxxx', 'sxDcvc', 'xxXXXX', 'xxSXXXXX'])\n",
    "\n",
    "az1 = az.map(lambda x: len(x)) ##to calculate number of characters in a given string\n",
    "\n",
    "az1"
   ]
  },
  {
   "cell_type": "code",
   "execution_count": 332,
   "id": "2de46247",
   "metadata": {},
   "outputs": [
    {
     "data": {
      "text/plain": [
       "[nan, nan, -8.0, -5.0, 60.0, -92.0]"
      ]
     },
     "execution_count": 332,
     "metadata": {},
     "output_type": "execute_result"
    }
   ],
   "source": [
    "ag = pd.Series([1, 11, 13, 10, 67, 32])\n",
    "\n",
    "ag1 = ag.diff().diff().tolist()  #to find diff of diff of the consecutive integers in a series of list.\n",
    "\n",
    "ag1"
   ]
  },
  {
   "cell_type": "markdown",
   "id": "138c4a70",
   "metadata": {},
   "source": [
    "## To find vowels\n",
    "\n",
    "First lets take a look at the ways to split strings"
   ]
  },
  {
   "cell_type": "code",
   "execution_count": 356,
   "id": "6c46e4c6",
   "metadata": {},
   "outputs": [
    {
     "data": {
      "text/plain": [
       "0        apple\n",
       "1       banana\n",
       "2       orange\n",
       "3      AvocadO\n",
       "4    Olive Oil\n",
       "dtype: object"
      ]
     },
     "execution_count": 356,
     "metadata": {},
     "output_type": "execute_result"
    }
   ],
   "source": [
    "vow = pd.Series(['apple', 'banana', 'orange', 'AvocadO', 'Olive Oil'])\n",
    "\n",
    "vow"
   ]
  },
  {
   "cell_type": "code",
   "execution_count": 341,
   "id": "4d9c5a66",
   "metadata": {},
   "outputs": [
    {
     "data": {
      "text/html": [
       "<div>\n",
       "<style scoped>\n",
       "    .dataframe tbody tr th:only-of-type {\n",
       "        vertical-align: middle;\n",
       "    }\n",
       "\n",
       "    .dataframe tbody tr th {\n",
       "        vertical-align: top;\n",
       "    }\n",
       "\n",
       "    .dataframe thead th {\n",
       "        text-align: right;\n",
       "    }\n",
       "</style>\n",
       "<table border=\"1\" class=\"dataframe\">\n",
       "  <thead>\n",
       "    <tr style=\"text-align: right;\">\n",
       "      <th></th>\n",
       "      <th>level_0</th>\n",
       "      <th>level_1</th>\n",
       "      <th>0</th>\n",
       "    </tr>\n",
       "  </thead>\n",
       "  <tbody>\n",
       "    <tr>\n",
       "      <th>0</th>\n",
       "      <td>0</td>\n",
       "      <td>0</td>\n",
       "      <td>apple</td>\n",
       "    </tr>\n",
       "    <tr>\n",
       "      <th>1</th>\n",
       "      <td>1</td>\n",
       "      <td>0</td>\n",
       "      <td>banana</td>\n",
       "    </tr>\n",
       "    <tr>\n",
       "      <th>2</th>\n",
       "      <td>2</td>\n",
       "      <td>0</td>\n",
       "      <td>orange</td>\n",
       "    </tr>\n",
       "    <tr>\n",
       "      <th>3</th>\n",
       "      <td>3</td>\n",
       "      <td>0</td>\n",
       "      <td>AvocadO</td>\n",
       "    </tr>\n",
       "    <tr>\n",
       "      <th>4</th>\n",
       "      <td>4</td>\n",
       "      <td>0</td>\n",
       "      <td>Olive</td>\n",
       "    </tr>\n",
       "    <tr>\n",
       "      <th>5</th>\n",
       "      <td>4</td>\n",
       "      <td>1</td>\n",
       "      <td>Oil</td>\n",
       "    </tr>\n",
       "  </tbody>\n",
       "</table>\n",
       "</div>"
      ],
      "text/plain": [
       "   level_0  level_1        0\n",
       "0        0        0    apple\n",
       "1        1        0   banana\n",
       "2        2        0   orange\n",
       "3        3        0  AvocadO\n",
       "4        4        0    Olive\n",
       "5        4        1      Oil"
      ]
     },
     "execution_count": 341,
     "metadata": {},
     "output_type": "execute_result"
    }
   ],
   "source": [
    "splitted = vow.str.split(' ', expand = True).stack()\n",
    "\n",
    "splitted.reset_index()"
   ]
  },
  {
   "cell_type": "code",
   "execution_count": 349,
   "id": "43bfa59a",
   "metadata": {},
   "outputs": [
    {
     "data": {
      "text/plain": [
       "0      apple\n",
       "1     banana\n",
       "2     orange\n",
       "3    AvocadO\n",
       "4      Olive\n",
       "5        Oil\n",
       "dtype: object"
      ]
     },
     "execution_count": 349,
     "metadata": {},
     "output_type": "execute_result"
    }
   ],
   "source": [
    "splitted1 = vow.apply(lambda x: x.split()).explode()\n",
    "splitted1.reset_index(drop= True)"
   ]
  },
  {
   "cell_type": "markdown",
   "id": "a1b14be0",
   "metadata": {},
   "source": [
    "## Final program"
   ]
  },
  {
   "cell_type": "code",
   "execution_count": 359,
   "id": "f1dfa405",
   "metadata": {},
   "outputs": [
    {
     "name": "stdout",
     "output_type": "stream",
     "text": [
      "1       banana\n",
      "2       orange\n",
      "3      AvocadO\n",
      "4    Olive Oil\n",
      "dtype: object\n"
     ]
    }
   ],
   "source": [
    "import re\n",
    "\n",
    "def countwords(word):   \n",
    "    return len(re.findall(r'[aeiouAEIOU]', word)) #to find any number of vowels in a string.\n",
    "\n",
    "\n",
    "wordSeries = vow[vow.apply(countwords) >=3]  #this is to specify how many number of vowels are you looking for in your string.\n",
    "\n",
    "print (wordSeries)"
   ]
  },
  {
   "cell_type": "code",
   "execution_count": 8,
   "id": "35bd093c",
   "metadata": {},
   "outputs": [
    {
     "data": {
      "text/plain": [
       "array([[ 1,  2],\n",
       "       [ 3,  4],\n",
       "       [ 5,  6],\n",
       "       [ 7,  8],\n",
       "       [ 9, 10]])"
      ]
     },
     "execution_count": 8,
     "metadata": {},
     "output_type": "execute_result"
    }
   ],
   "source": [
    "import numpy as np\n",
    "aar1 = np.array([[1,2], [3,4]])\n",
    "\n",
    "aar2 = np.array([[5,6],[7,8], [9,10]])\n",
    "\n",
    "new_arr = np.concatenate((aar1,aar2), axis =0)\n",
    "new_arr"
   ]
  },
  {
   "cell_type": "code",
   "execution_count": 12,
   "id": "48335a28",
   "metadata": {},
   "outputs": [
    {
     "data": {
      "text/plain": [
       "array([1, 2, 3, 4, 5, 6])"
      ]
     },
     "execution_count": 12,
     "metadata": {},
     "output_type": "execute_result"
    }
   ],
   "source": [
    "a = np.array([1, 2, 3, 4, 5, 6])\n",
    "\n",
    "a.shape\n",
    "\n",
    "a"
   ]
  },
  {
   "cell_type": "code",
   "execution_count": 11,
   "id": "019cca8f",
   "metadata": {},
   "outputs": [
    {
     "data": {
      "text/plain": [
       "array([[1, 2, 3, 4, 5, 6]])"
      ]
     },
     "execution_count": 11,
     "metadata": {},
     "output_type": "execute_result"
    }
   ],
   "source": [
    "a2 = a[np.newaxis, :]\n",
    "a2.shape\n",
    "\n",
    "a2"
   ]
  },
  {
   "cell_type": "code",
   "execution_count": 14,
   "id": "e0851343",
   "metadata": {},
   "outputs": [
    {
     "data": {
      "text/plain": [
       "array([[1],\n",
       "       [2],\n",
       "       [3],\n",
       "       [4],\n",
       "       [5],\n",
       "       [6]])"
      ]
     },
     "execution_count": 14,
     "metadata": {},
     "output_type": "execute_result"
    }
   ],
   "source": [
    "a3 = a[:, np.newaxis]\n",
    "\n",
    "a3"
   ]
  },
  {
   "cell_type": "code",
   "execution_count": 18,
   "id": "4b118acd",
   "metadata": {},
   "outputs": [
    {
     "data": {
      "text/plain": [
       "array([[ 1,  2,  3,  4],\n",
       "       [ 5,  6,  7,  8],\n",
       "       [ 9, 10, 11, 12]])"
      ]
     },
     "execution_count": 18,
     "metadata": {},
     "output_type": "execute_result"
    }
   ],
   "source": [
    "a = np.array([[1 , 2, 3, 4], [5, 6, 7, 8], [9, 10, 11, 12]])\n",
    "\n",
    "a"
   ]
  },
  {
   "cell_type": "code",
   "execution_count": 19,
   "id": "f5904e4b",
   "metadata": {},
   "outputs": [
    {
     "name": "stdout",
     "output_type": "stream",
     "text": [
      "[10 11 12]\n"
     ]
    }
   ],
   "source": [
    "print(a[a>=10])"
   ]
  },
  {
   "cell_type": "code",
   "execution_count": 24,
   "id": "65fad260",
   "metadata": {},
   "outputs": [
    {
     "name": "stdout",
     "output_type": "stream",
     "text": [
      "[ 1  6  7  8  9 10 11 12]\n"
     ]
    }
   ],
   "source": [
    "xyz = a[(a>5) | (a==1)]\n",
    "\n",
    "print(xyz)"
   ]
  },
  {
   "cell_type": "code",
   "execution_count": 27,
   "id": "99f7af05",
   "metadata": {},
   "outputs": [
    {
     "data": {
      "text/plain": [
       "(array([0, 0, 0, 0, 1, 1, 1, 1]), array([0, 1, 2, 3, 0, 1, 2, 3]))"
      ]
     },
     "execution_count": 27,
     "metadata": {},
     "output_type": "execute_result"
    }
   ],
   "source": [
    "b = np.nonzero(a<9)\n",
    "\n",
    "b"
   ]
  },
  {
   "cell_type": "code",
   "execution_count": 28,
   "id": "71a3458e",
   "metadata": {},
   "outputs": [
    {
     "data": {
      "text/plain": [
       "array([[1, 1],\n",
       "       [2, 2]])"
      ]
     },
     "execution_count": 28,
     "metadata": {},
     "output_type": "execute_result"
    }
   ],
   "source": [
    "b = np.array([[1, 1], [2, 2]])\n",
    "\n",
    "b"
   ]
  },
  {
   "cell_type": "code",
   "execution_count": 29,
   "id": "c4860d9c",
   "metadata": {},
   "outputs": [
    {
     "data": {
      "text/plain": [
       "array([[1, 2],\n",
       "       [3, 4],\n",
       "       [5, 6]])"
      ]
     },
     "execution_count": 29,
     "metadata": {},
     "output_type": "execute_result"
    }
   ],
   "source": [
    "data = np.array([[1, 2], [3, 4], [5, 6]])\n",
    "\n",
    "data"
   ]
  },
  {
   "cell_type": "code",
   "execution_count": 30,
   "id": "3e980ac1",
   "metadata": {},
   "outputs": [
    {
     "data": {
      "text/plain": [
       "array([1, 3])"
      ]
     },
     "execution_count": 30,
     "metadata": {},
     "output_type": "execute_result"
    }
   ],
   "source": [
    "data[0:2, 0] #0th position at 0 and 1"
   ]
  },
  {
   "cell_type": "code",
   "execution_count": 7,
   "id": "42317aad",
   "metadata": {},
   "outputs": [
    {
     "data": {
      "text/plain": [
       "array([[0.08564917, 0.23681051, 0.80127447],\n",
       "       [0.58216204, 0.09412864, 0.43312694],\n",
       "       [0.4790513 , 0.15973891, 0.73457715]])"
      ]
     },
     "execution_count": 7,
     "metadata": {},
     "output_type": "execute_result"
    }
   ],
   "source": [
    "import numpy as np\n",
    "rng = np.random.default_rng(3)\n",
    "\n",
    "rng.random((3,3)) #generates random 3,3 array.\n"
   ]
  },
  {
   "cell_type": "code",
   "execution_count": 9,
   "id": "606b5266",
   "metadata": {},
   "outputs": [
    {
     "data": {
      "text/plain": [
       "array([[0, 1, 4],\n",
       "       [3, 8, 5],\n",
       "       [4, 4, 6]])"
      ]
     },
     "execution_count": 9,
     "metadata": {},
     "output_type": "execute_result"
    }
   ],
   "source": [
    "rng.integers(10, size = (3,3))"
   ]
  },
  {
   "cell_type": "markdown",
   "id": "928fc40c",
   "metadata": {},
   "source": [
    "## How to access docstring"
   ]
  },
  {
   "cell_type": "code",
   "execution_count": 13,
   "id": "559cb337",
   "metadata": {},
   "outputs": [],
   "source": [
    "def double(a):\n",
    "    '''Return a**2'''\n",
    "    return a**2\n",
    "\n",
    "double?   #to access docstring use ?, or ?? for more information."
   ]
  },
  {
   "cell_type": "code",
   "execution_count": 14,
   "id": "f6ac4973",
   "metadata": {},
   "outputs": [],
   "source": [
    "double??"
   ]
  },
  {
   "cell_type": "code",
   "execution_count": 15,
   "id": "fb21d9aa",
   "metadata": {},
   "outputs": [
    {
     "data": {
      "text/plain": [
       "array([[[1, 2],\n",
       "        [3, 4]],\n",
       "\n",
       "       [[5, 6],\n",
       "        [7, 8]]])"
      ]
     },
     "execution_count": 15,
     "metadata": {},
     "output_type": "execute_result"
    }
   ],
   "source": [
    "a3D = np.array([[[1, 2], [3, 4]], [[5, 6], [7, 8]]])\n",
    "\n",
    "a3D"
   ]
  },
  {
   "cell_type": "code",
   "execution_count": 26,
   "id": "a279e2dc",
   "metadata": {},
   "outputs": [
    {
     "data": {
      "text/plain": [
       "array([2, 4, 6, 8])"
      ]
     },
     "execution_count": 26,
     "metadata": {},
     "output_type": "execute_result"
    }
   ],
   "source": [
    "np.arange(2, 10, 2)"
   ]
  },
  {
   "cell_type": "code",
   "execution_count": 21,
   "id": "1d400b99",
   "metadata": {},
   "outputs": [
    {
     "data": {
      "text/plain": [
       "array([2.  , 2.75, 3.5 , 4.25, 5.  ])"
      ]
     },
     "execution_count": 21,
     "metadata": {},
     "output_type": "execute_result"
    }
   ],
   "source": [
    "np.linspace(2., 5., 5)"
   ]
  },
  {
   "cell_type": "code",
   "execution_count": 27,
   "id": "6706aab6",
   "metadata": {},
   "outputs": [
    {
     "data": {
      "text/plain": [
       "array([[1., 0., 0., 0., 0.],\n",
       "       [0., 1., 0., 0., 0.],\n",
       "       [0., 0., 1., 0., 0.]])"
      ]
     },
     "execution_count": 27,
     "metadata": {},
     "output_type": "execute_result"
    }
   ],
   "source": [
    "np.eye(3,5)"
   ]
  },
  {
   "cell_type": "code",
   "execution_count": 37,
   "id": "a1e0c2ee",
   "metadata": {},
   "outputs": [
    {
     "data": {
      "text/plain": [
       "array([[ 1.,  1.,  1.,  0.],\n",
       "       [ 1.,  1.,  0.,  1.],\n",
       "       [ 0.,  0., -3.,  0.],\n",
       "       [ 0.,  0.,  0., -4.]])"
      ]
     },
     "execution_count": 37,
     "metadata": {},
     "output_type": "execute_result"
    }
   ],
   "source": [
    "A = np.ones((2,2))\n",
    "C = np.zeros((2,2))\n",
    "B = np.eye(2,2)\n",
    "D = np.diag((-3,-4))\n",
    "\n",
    "combnd_arr = np.block([[A, B], [C, D]])\n",
    "\n",
    "combnd_arr"
   ]
  },
  {
   "cell_type": "code",
   "execution_count": 32,
   "id": "54b8299a",
   "metadata": {},
   "outputs": [
    {
     "data": {
      "text/plain": [
       "array([[ 1.,  1.,  1.,  0.],\n",
       "       [ 1.,  1.,  0.,  1.],\n",
       "       [ 0.,  0., -3.,  0.],\n",
       "       [ 0.,  0.,  0., -4.]])"
      ]
     },
     "execution_count": 32,
     "metadata": {},
     "output_type": "execute_result"
    }
   ],
   "source": [
    "A = np.ones((2, 2))\n",
    "B = np.eye(2, 2)\n",
    "C = np.zeros((2, 2))\n",
    "D = np.diag((-3, -4))\n",
    "np.block([[A, B], [C, D]])"
   ]
  },
  {
   "cell_type": "code",
   "execution_count": 1,
   "id": "5d67541a",
   "metadata": {},
   "outputs": [],
   "source": [
    "import numpy as np\n",
    "\n",
    "np?"
   ]
  },
  {
   "cell_type": "code",
   "execution_count": 7,
   "id": "53fb964b",
   "metadata": {},
   "outputs": [
    {
     "data": {
      "text/plain": [
       "array([[[6, 9, 3, 8, 0],\n",
       "        [4, 3, 5, 2, 4],\n",
       "        [4, 4, 3, 8, 1],\n",
       "        [4, 0, 2, 4, 6]],\n",
       "\n",
       "       [[3, 4, 3, 7, 2],\n",
       "        [2, 6, 2, 2, 7],\n",
       "        [5, 1, 9, 6, 7],\n",
       "        [5, 0, 0, 8, 3]],\n",
       "\n",
       "       [[4, 7, 3, 3, 8],\n",
       "        [1, 4, 2, 9, 0],\n",
       "        [3, 7, 2, 1, 4],\n",
       "        [2, 9, 1, 4, 6]]])"
      ]
     },
     "execution_count": 7,
     "metadata": {},
     "output_type": "execute_result"
    }
   ],
   "source": [
    "x3 = np.random.randint(10, size=(3,4,5)) # this size = block size,row size, column size\n",
    "\n",
    "x3"
   ]
  },
  {
   "cell_type": "code",
   "execution_count": null,
   "id": "9c37cde5",
   "metadata": {},
   "outputs": [],
   "source": []
  }
 ],
 "metadata": {
  "kernelspec": {
   "display_name": "Python 3 (ipykernel)",
   "language": "python",
   "name": "python3"
  },
  "language_info": {
   "codemirror_mode": {
    "name": "ipython",
    "version": 3
   },
   "file_extension": ".py",
   "mimetype": "text/x-python",
   "name": "python",
   "nbconvert_exporter": "python",
   "pygments_lexer": "ipython3",
   "version": "3.9.13"
  }
 },
 "nbformat": 4,
 "nbformat_minor": 5
}
