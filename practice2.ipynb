{
 "cells": [
  {
   "cell_type": "code",
   "execution_count": 48,
   "id": "c2635338",
   "metadata": {},
   "outputs": [],
   "source": [
    "import pandas as pd\n",
    "table = [\n",
    "    {\"name\": 'aaa', \"id\": 1, \"sal\": 1000 },\n",
    "    {\"name\": 'bb', \"id\": 2, \"sal\": 2000},\n",
    "    {\"name\": 'ccc', \"id\": pd.NA, \"sal\": 3000}\n",
    "]\n"
   ]
  },
  {
   "cell_type": "code",
   "execution_count": 5,
   "id": "0ad9f6b4",
   "metadata": {},
   "outputs": [],
   "source": [
    "table.append({\"name\": 'ddd', \"id\": 4, \"sal\": 4000})"
   ]
  },
  {
   "cell_type": "code",
   "execution_count": 49,
   "id": "5880f3e1",
   "metadata": {},
   "outputs": [
    {
     "name": "stdout",
     "output_type": "stream",
     "text": [
      "[{'name': 'aaa', 'id': 1, 'sal': 1000}, {'name': 'bb', 'id': 2, 'sal': 2000}, {'name': 'ccc', 'id': <NA>, 'sal': 3000}]\n"
     ]
    }
   ],
   "source": [
    "print(table)"
   ]
  },
  {
   "cell_type": "code",
   "execution_count": 7,
   "id": "3d0e35d9",
   "metadata": {},
   "outputs": [
    {
     "data": {
      "text/plain": [
       "{'name': 'ddd', 'id': 4, 'sal': 4000}"
      ]
     },
     "execution_count": 7,
     "metadata": {},
     "output_type": "execute_result"
    }
   ],
   "source": [
    "table.pop()"
   ]
  },
  {
   "cell_type": "code",
   "execution_count": 8,
   "id": "c8dc8b3c",
   "metadata": {},
   "outputs": [
    {
     "name": "stdout",
     "output_type": "stream",
     "text": [
      "[{'name': 'aaa', 'id': 1, 'sal': 1000}, {'name': 'bb', 'id': 2, 'sal': 2000}, {'name': 'ccc', 'id': 3, 'sal': 3000}, {'name': 'ddd', 'id': 4, 'sal': 4000}]\n"
     ]
    }
   ],
   "source": [
    "print(table)"
   ]
  },
  {
   "cell_type": "code",
   "execution_count": 9,
   "id": "30aaff4a",
   "metadata": {},
   "outputs": [],
   "source": [
    "table.extend({\"name\": 'eee', \"id\": 5, \"sal\": 5000})"
   ]
  },
  {
   "cell_type": "code",
   "execution_count": 10,
   "id": "99a9f0bd",
   "metadata": {},
   "outputs": [
    {
     "name": "stdout",
     "output_type": "stream",
     "text": [
      "[{'name': 'aaa', 'id': 1, 'sal': 1000}, {'name': 'bb', 'id': 2, 'sal': 2000}, {'name': 'ccc', 'id': 3, 'sal': 3000}, {'name': 'ddd', 'id': 4, 'sal': 4000}, 'name', 'id', 'sal']\n"
     ]
    }
   ],
   "source": [
    "print(table)"
   ]
  },
  {
   "cell_type": "code",
   "execution_count": 11,
   "id": "550ea23a",
   "metadata": {},
   "outputs": [
    {
     "data": {
      "text/plain": [
       "'sal'"
      ]
     },
     "execution_count": 11,
     "metadata": {},
     "output_type": "execute_result"
    }
   ],
   "source": [
    "table.pop()"
   ]
  },
  {
   "cell_type": "code",
   "execution_count": 14,
   "id": "eb01fce9",
   "metadata": {},
   "outputs": [
    {
     "data": {
      "text/plain": [
       "'name'"
      ]
     },
     "execution_count": 14,
     "metadata": {},
     "output_type": "execute_result"
    }
   ],
   "source": [
    "table.pop(-1)"
   ]
  },
  {
   "cell_type": "code",
   "execution_count": 15,
   "id": "9a864adf",
   "metadata": {},
   "outputs": [
    {
     "name": "stdout",
     "output_type": "stream",
     "text": [
      "[{'name': 'aaa', 'id': 1, 'sal': 1000}, {'name': 'bb', 'id': 2, 'sal': 2000}, {'name': 'ccc', 'id': 3, 'sal': 3000}, {'name': 'ddd', 'id': 4, 'sal': 4000}]\n"
     ]
    }
   ],
   "source": [
    "print(table)"
   ]
  },
  {
   "cell_type": "code",
   "execution_count": 25,
   "id": "a1ce508f",
   "metadata": {},
   "outputs": [
    {
     "name": "stdout",
     "output_type": "stream",
     "text": [
      "[{'name': 'aaa', 'id': 1, 'sal': 1000}, {'name': 'bb', 'id': 2, 'sal': 2000}, {'name': 'ccc', 'id': 3, 'sal': 3000}, {'name': 'ddd', 'id': 4, 'sal': 4000}]\n"
     ]
    }
   ],
   "source": [
    "print(table)"
   ]
  },
  {
   "cell_type": "code",
   "execution_count": 28,
   "id": "599f5a6b",
   "metadata": {},
   "outputs": [
    {
     "data": {
      "text/plain": [
       "[{'name': 'aaa', 'id': 1, 'sal': 1000},\n",
       " {'name': 'bb', 'id': 2, 'sal': 2000},\n",
       " {'name': 'ccc', 'id': 3, 'sal': 3000},\n",
       " {'name': 'ddd', 'id': 4, 'sal': 4000}]"
      ]
     },
     "execution_count": 28,
     "metadata": {},
     "output_type": "execute_result"
    }
   ],
   "source": [
    "import pandas as pd\n",
    "\n",
    "list(table)"
   ]
  },
  {
   "cell_type": "code",
   "execution_count": 31,
   "id": "12d09832",
   "metadata": {},
   "outputs": [
    {
     "name": "stdout",
     "output_type": "stream",
     "text": [
      "[{'name': 'aaa', 'id': 1, 'sal': 1000}, {'name': 'ccc', 'id': 3, 'sal': 3000}, {'name': 'ddd', 'id': 4, 'sal': 4000}]\n"
     ]
    }
   ],
   "source": [
    "for item in table:\n",
    "    if (item['name'] == 'bb'):\n",
    "        table.remove(item)\n",
    "print(table)"
   ]
  },
  {
   "cell_type": "code",
   "execution_count": 54,
   "id": "985383f7",
   "metadata": {},
   "outputs": [],
   "source": [
    "df = pd.DataFrame(table, columns = ['name', 'id', 'sal'], index = [1,2,3])"
   ]
  },
  {
   "cell_type": "code",
   "execution_count": 55,
   "id": "4a63ffad",
   "metadata": {},
   "outputs": [
    {
     "name": "stdout",
     "output_type": "stream",
     "text": [
      "  name    id   sal\n",
      "1  aaa     1  1000\n",
      "2   bb     2  2000\n",
      "3  ccc  <NA>  3000\n"
     ]
    }
   ],
   "source": [
    "print(df)"
   ]
  },
  {
   "cell_type": "code",
   "execution_count": 34,
   "id": "c96494b2",
   "metadata": {},
   "outputs": [],
   "source": [
    "del df"
   ]
  },
  {
   "cell_type": "code",
   "execution_count": 35,
   "id": "fbf5e6dc",
   "metadata": {},
   "outputs": [
    {
     "data": {
      "text/plain": [
       "[{'name': 'aaa', 'id': 1, 'sal': 1000},\n",
       " {'name': 'ccc', 'id': 3, 'sal': 3000},\n",
       " {'name': 'ddd', 'id': 4, 'sal': 4000}]"
      ]
     },
     "execution_count": 35,
     "metadata": {},
     "output_type": "execute_result"
    }
   ],
   "source": [
    "table"
   ]
  },
  {
   "cell_type": "code",
   "execution_count": 36,
   "id": "e287c98e",
   "metadata": {},
   "outputs": [],
   "source": [
    "df = pd.DataFrame(table)"
   ]
  },
  {
   "cell_type": "code",
   "execution_count": 37,
   "id": "181bc72c",
   "metadata": {},
   "outputs": [
    {
     "name": "stdout",
     "output_type": "stream",
     "text": [
      "  name  id   sal\n",
      "0  aaa   1  1000\n",
      "1  ccc   3  3000\n",
      "2  ddd   4  4000\n"
     ]
    }
   ],
   "source": [
    "print(df)"
   ]
  },
  {
   "cell_type": "code",
   "execution_count": 41,
   "id": "595f8cfd",
   "metadata": {},
   "outputs": [],
   "source": [
    "new_data = {\n",
    "    \"name\": 'eee',\n",
    "    \"id\": 5,\n",
    "    \"sal\": 6000\n",
    "}\n",
    "\n",
    "\n",
    "df1 = pd.DataFrame([new_data])\n",
    "\n",
    "df = pd.concat([df, df1], axis = 0, ignore_index = True)"
   ]
  },
  {
   "cell_type": "code",
   "execution_count": 42,
   "id": "ba85453b",
   "metadata": {},
   "outputs": [
    {
     "name": "stdout",
     "output_type": "stream",
     "text": [
      "  name  id   sal\n",
      "0  aaa   1  1000\n",
      "1  ccc   3  3000\n",
      "2  ddd   4  4000\n",
      "3  eee   5  6000\n",
      "4  eee   5  6000\n"
     ]
    }
   ],
   "source": [
    "print(df)"
   ]
  },
  {
   "cell_type": "code",
   "execution_count": 43,
   "id": "843e556d",
   "metadata": {},
   "outputs": [],
   "source": [
    "df1 = df.loc[(df['id'] >=4) & (df['id'] <= 5)]\n",
    "df2 = df.loc[(df['id'] < 4) | (df['id'] > 5)]"
   ]
  },
  {
   "cell_type": "code",
   "execution_count": 44,
   "id": "3cedd38e",
   "metadata": {},
   "outputs": [
    {
     "name": "stdout",
     "output_type": "stream",
     "text": [
      "  name  id   sal\n",
      "2  ddd   4  4000\n",
      "3  eee   5  6000\n",
      "4  eee   5  6000   name  id   sal\n",
      "0  aaa   1  1000\n",
      "1  ccc   3  3000\n"
     ]
    }
   ],
   "source": [
    "print(df1, df2)"
   ]
  },
  {
   "cell_type": "code",
   "execution_count": 50,
   "id": "918a6490",
   "metadata": {},
   "outputs": [
    {
     "name": "stdout",
     "output_type": "stream",
     "text": [
      "  name  id   sal\n",
      "2  ddd   4  4000\n",
      "3  eee   5  6000\n",
      "4  eee   5  6000\n"
     ]
    }
   ],
   "source": [
    "print(df1)"
   ]
  },
  {
   "cell_type": "code",
   "execution_count": 51,
   "id": "ce64d6bc",
   "metadata": {},
   "outputs": [
    {
     "name": "stdout",
     "output_type": "stream",
     "text": [
      "  name  id   sal\n",
      "0  aaa   1  1000\n",
      "1  ccc   3  3000\n"
     ]
    }
   ],
   "source": [
    "print(df2)"
   ]
  },
  {
   "cell_type": "code",
   "execution_count": 52,
   "id": "e0b78585",
   "metadata": {},
   "outputs": [
    {
     "name": "stdout",
     "output_type": "stream",
     "text": [
      "  name  id   sal\n",
      "0  aaa   1  1000\n",
      "1  ccc   3  3000\n",
      "2  ddd   4  4000\n",
      "3  eee   5  6000\n"
     ]
    }
   ],
   "source": [
    "df = df.drop_duplicates(subset=['name', 'id'])\n",
    "print(df)"
   ]
  },
  {
   "cell_type": "code",
   "execution_count": 53,
   "id": "6d1e8b9b",
   "metadata": {},
   "outputs": [
    {
     "name": "stdout",
     "output_type": "stream",
     "text": [
      "  name  id   sal\n",
      "0  aaa   1  1000\n",
      "1  ccc   3  3000\n",
      "3  eee   5  6000\n"
     ]
    }
   ],
   "source": [
    "df = df.drop(df.query('id == 4').index)\n",
    "print(df)"
   ]
  },
  {
   "cell_type": "code",
   "execution_count": null,
   "id": "d578c8a9",
   "metadata": {},
   "outputs": [],
   "source": []
  }
 ],
 "metadata": {
  "kernelspec": {
   "display_name": "Python 3 (ipykernel)",
   "language": "python",
   "name": "python3"
  },
  "language_info": {
   "codemirror_mode": {
    "name": "ipython",
    "version": 3
   },
   "file_extension": ".py",
   "mimetype": "text/x-python",
   "name": "python",
   "nbconvert_exporter": "python",
   "pygments_lexer": "ipython3",
   "version": "3.9.13"
  }
 },
 "nbformat": 4,
 "nbformat_minor": 5
}
