{
 "cells": [
  {
   "cell_type": "code",
   "execution_count": 4,
   "id": "3ab2d803",
   "metadata": {},
   "outputs": [
    {
     "name": "stdout",
     "output_type": "stream",
     "text": [
      "['Deepak', 30]\n"
     ]
    }
   ],
   "source": [
    "Name = 'Deepak'\n",
    "Age = 30\n",
    "details = [Name, Age]\n",
    "\n",
    "print(details)"
   ]
  },
  {
   "cell_type": "code",
   "execution_count": 5,
   "id": "dcd11d49",
   "metadata": {},
   "outputs": [],
   "source": [
    "salary = 100000\n",
    "details.append(salary)"
   ]
  },
  {
   "cell_type": "code",
   "execution_count": 6,
   "id": "8c2a1746",
   "metadata": {},
   "outputs": [
    {
     "name": "stdout",
     "output_type": "stream",
     "text": [
      "['Deepak', 30, 100000]\n"
     ]
    }
   ],
   "source": [
    "print(details)"
   ]
  },
  {
   "cell_type": "code",
   "execution_count": 7,
   "id": "bdbc52a1",
   "metadata": {},
   "outputs": [
    {
     "name": "stdout",
     "output_type": "stream",
     "text": [
      "3\n"
     ]
    }
   ],
   "source": [
    "print(len(details))"
   ]
  },
  {
   "cell_type": "code",
   "execution_count": 11,
   "id": "67ba8bb1",
   "metadata": {},
   "outputs": [
    {
     "name": "stdout",
     "output_type": "stream",
     "text": [
      "[7, 8, 9, 10, 1, 2, 3, 4, 5]\n"
     ]
    }
   ],
   "source": [
    "gradeScience = [1,2,3,4,5,]\n",
    "gradeArt = [7,8,9,10]\n",
    "\n",
    "# extendedList = gradeArt.extend(gradeScience)   // this is a wrong way to extend a list, as this print the return value of extend to extendedList which is none.\n",
    "\n",
    "gradeArt.extend(gradeScience)\n",
    "\n",
    "print(gradeArt)"
   ]
  },
  {
   "cell_type": "markdown",
   "id": "4f00f7b5",
   "metadata": {},
   "source": [
    "# Difference between append and extend"
   ]
  },
  {
   "cell_type": "code",
   "execution_count": 13,
   "id": "1a999616",
   "metadata": {},
   "outputs": [
    {
     "name": "stdout",
     "output_type": "stream",
     "text": [
      "[[1, 2, 3]]\n",
      "[1, 2, 3]\n"
     ]
    }
   ],
   "source": [
    "empty_List1 = []\n",
    "empty_List2 = []\n",
    "\n",
    "empty_List1.append([1,2,3])\n",
    "empty_List2.extend([1,2,3])\n",
    "\n",
    "print(empty_List1)\n",
    "print(empty_List2)"
   ]
  },
  {
   "cell_type": "markdown",
   "id": "0c3de8b3",
   "metadata": {},
   "source": [
    "So, append takes the iterable and added it to the end of the list.\n",
    "Extend took the iterable and added each item from the iterable to the empty list."
   ]
  },
  {
   "cell_type": "markdown",
   "id": "60ac5060",
   "metadata": {},
   "source": [
    "3) **list.insert(i,x)**\n",
    "\n",
    "The Python list method insert() takes in two arguments(position, item) and inserts the item at the given position in the list.\n",
    "\n",
    "The method insert() is useful when we want to add items into a list and have control over where precisely we want the items to be added to the list. Unlike append() and extend() that add items at the end of a list, insert() allows us to add items in whatever position we want."
   ]
  },
  {
   "cell_type": "code",
   "execution_count": 51,
   "id": "1c3b8ff4",
   "metadata": {},
   "outputs": [
    {
     "name": "stdout",
     "output_type": "stream",
     "text": [
      "['Alan', 'Bob', 'Mario', 'Jango', 'Pruthvi', 'Bolley']\n"
     ]
    }
   ],
   "source": [
    "names = ['Alan', 'Bob', 'Jango', 'Pruthvi', 'Bolley']\n",
    "\n",
    "getIndx = names.index('Jango')\n",
    "\n",
    "names.insert(getIndx, 'Mario')\n",
    "\n",
    "print(names)"
   ]
  },
  {
   "cell_type": "markdown",
   "id": "edb72e27",
   "metadata": {},
   "source": [
    "**NOTE**: Say we have a list of names in order of excellence and we later find out that we left out a name and the name is supposed to be added to the list before a given name. In this case, both append() and extend() won’t help as we want to add the item in a given position.\n",
    "\n",
    "The solution will be to get the index position of the name before which we want to add our new name and use insert() to add it at that position."
   ]
  },
  {
   "cell_type": "code",
   "execution_count": 17,
   "id": "140d2c65",
   "metadata": {},
   "outputs": [
    {
     "name": "stdout",
     "output_type": "stream",
     "text": [
      "['Alan', 'Mario', 'Jango', 'Pruthvi', 'Bolley']\n"
     ]
    }
   ],
   "source": [
    " names.remove('Bob')\n",
    "print(names)"
   ]
  },
  {
   "cell_type": "code",
   "execution_count": 18,
   "id": "a3a9ca4e",
   "metadata": {},
   "outputs": [
    {
     "name": "stdout",
     "output_type": "stream",
     "text": [
      "['Alan', 'Mario', 'Pruthvi', 'Bolley']\n"
     ]
    }
   ],
   "source": [
    "names.pop(2)\n",
    "print(names)"
   ]
  },
  {
   "cell_type": "markdown",
   "id": "6c1b9863",
   "metadata": {},
   "source": [
    "| Method   | Description | Argument | Exception Raised | Return Value  |\n",
    "|----------|-----------------------------------------------------------------|----------------------------------------------------------|-----------------|---------------|\n",
    "| pop()    | Removes the item at the specified index and returns it.         | Accepts an optional argument which is the index position of the item to be removed. If the index is out of range, an IndexError is raised. | IndexError      | The removed item. |\n",
    "| remove() | Removes the first occurrence of the specified item from the list. | Accepts an argument which is the item to be removed. If the item is not in the list, a ValueError is raised.          | ValueError      | None.         |\n"
   ]
  },
  {
   "cell_type": "markdown",
   "id": "b72ef301",
   "metadata": {},
   "source": [
    "**Note**: To clear all elements from a list, we can simply assign a list to empty list"
   ]
  },
  {
   "cell_type": "code",
   "execution_count": 20,
   "id": "7fafea1a",
   "metadata": {},
   "outputs": [
    {
     "name": "stdout",
     "output_type": "stream",
     "text": [
      "[]\n"
     ]
    }
   ],
   "source": [
    "names.clear() #use clear or assign the list to an empty list\n",
    "print(names)"
   ]
  },
  {
   "cell_type": "markdown",
   "id": "b096388b",
   "metadata": {},
   "source": [
    "4) **list.count(x)** -- Count the occurences of x."
   ]
  },
  {
   "cell_type": "markdown",
   "id": "5d9f900b",
   "metadata": {},
   "source": [
    "Unlike sets(), Python lists can hold duplicate items, if it interests us to know about these duplicates and determine how many times an item is duplicated, then count() is the way to go."
   ]
  },
  {
   "cell_type": "code",
   "execution_count": 59,
   "id": "ff28f531",
   "metadata": {},
   "outputs": [
    {
     "name": "stdout",
     "output_type": "stream",
     "text": [
      "2 \n",
      " 2  \n",
      " 1  \n",
      "\n"
     ]
    }
   ],
   "source": [
    "names = ['Alan', 'Bob', 'Jonas', 'Sicario', 'Alan', 'Bob']\n",
    "\n",
    "alanFreq = names.count('Alan')\n",
    "bobFreq = names.count('Bob')\n",
    "jonasFreq = names.count('Jonas')\n",
    "\n",
    "print(alanFreq, \"\\n\", bobFreq, \" \\n\", jonasFreq, \" \\n\")"
   ]
  },
  {
   "cell_type": "markdown",
   "id": "b99851d6",
   "metadata": {},
   "source": [
    "## How to remove list duplicates - Efficient method"
   ]
  },
  {
   "cell_type": "code",
   "execution_count": 57,
   "id": "76060943",
   "metadata": {},
   "outputs": [
    {
     "name": "stdout",
     "output_type": "stream",
     "text": [
      "[1, 2, 3, 4, 5, 6, 7]\n"
     ]
    }
   ],
   "source": [
    "myList = [1,2,3,4,5,6,7,1,2,3,4]\n",
    "\n",
    "def remDuplicates(x):\n",
    "      return list(dict.fromkeys(x))  #create a dictionary because dict cannot have duplicate keys.\n",
    "\n",
    "print(remDuplicates(myList))"
   ]
  },
  {
   "cell_type": "code",
   "execution_count": null,
   "id": "4f347fb1",
   "metadata": {},
   "outputs": [],
   "source": [
    "def countFreq(input):\n",
    "    freqTable = {}\n",
    "    for row in apps_data[1:]:\n",
    "        value = row[input]\n",
    "        if value in app_data[1:]:\n",
    "            freqTable[row] += 1\n",
    "        else:\n",
    "            freqTable[row] = 1\n",
    "    return freqTable\n",
    "countFreq(7) "
   ]
  }
 ],
 "metadata": {
  "kernelspec": {
   "display_name": "Python 3 (ipykernel)",
   "language": "python",
   "name": "python3"
  },
  "language_info": {
   "codemirror_mode": {
    "name": "ipython",
    "version": 3
   },
   "file_extension": ".py",
   "mimetype": "text/x-python",
   "name": "python",
   "nbconvert_exporter": "python",
   "pygments_lexer": "ipython3",
   "version": "3.9.13"
  }
 },
 "nbformat": 4,
 "nbformat_minor": 5
}
